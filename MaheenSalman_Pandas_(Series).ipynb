{
  "cells": [
    {
      "cell_type": "markdown",
      "id": "587e1bac",
      "metadata": {
        "id": "587e1bac"
      },
      "source": [
        "##### Pandas\n",
        "\n",
        "1. Series\n",
        "2. DataFrame"
      ]
    },
    {
      "cell_type": "code",
      "execution_count": null,
      "id": "7af9edaa",
      "metadata": {
        "id": "7af9edaa"
      },
      "outputs": [],
      "source": [
        "import pandas as pd\n",
        "import numpy as np"
      ]
    },
    {
      "cell_type": "markdown",
      "id": "13bc3a35",
      "metadata": {
        "id": "13bc3a35"
      },
      "source": [
        "##### Pandas Series\n",
        "\n",
        "We'll start analyzing \"The Group of Seven\". Which is a political group formed by Canada, France, Germany, Italy, Japan, the United Kingdom and the United States. We'll start by analyzing population, and for that, we'll use a pandas.Series object.\n"
      ]
    },
    {
      "cell_type": "code",
      "execution_count": null,
      "id": "98a43410",
      "metadata": {
        "id": "98a43410"
      },
      "outputs": [],
      "source": [
        "# In millions\n",
        "\n",
        "population = pd.Series([35.467, 63.951, 80.940, 60.665, 127.061, 64.511, 318.523])\n",
        "pop=np.array([35.467, 63.951, 80.940, 60.665, 127.061, 64.511, 318.523])"
      ]
    },
    {
      "cell_type": "code",
      "execution_count": null,
      "id": "67a132b4",
      "metadata": {
        "colab": {
          "base_uri": "https://localhost:8080/"
        },
        "id": "67a132b4",
        "outputId": "3e788dff-91fc-4c30-aaa1-4b83894c6beb"
      },
      "outputs": [
        {
          "output_type": "execute_result",
          "data": {
            "text/plain": [
              "array([ 35.467,  63.951,  80.94 ,  60.665, 127.061,  64.511, 318.523])"
            ]
          },
          "metadata": {},
          "execution_count": 4
        }
      ],
      "source": [
        "pop"
      ]
    },
    {
      "cell_type": "code",
      "execution_count": null,
      "id": "f8b30ce2",
      "metadata": {
        "id": "f8b30ce2",
        "outputId": "2875856a-cc78-4cc2-e396-308d0fa6659a",
        "colab": {
          "base_uri": "https://localhost:8080/"
        }
      },
      "outputs": [
        {
          "output_type": "execute_result",
          "data": {
            "text/plain": [
              "0     35.467\n",
              "1     63.951\n",
              "2     80.940\n",
              "3     60.665\n",
              "4    127.061\n",
              "5     64.511\n",
              "6    318.523\n",
              "dtype: float64"
            ]
          },
          "metadata": {},
          "execution_count": 5
        }
      ],
      "source": [
        "population"
      ]
    },
    {
      "cell_type": "code",
      "execution_count": null,
      "id": "35f8d6b7",
      "metadata": {
        "id": "35f8d6b7"
      },
      "outputs": [],
      "source": [
        "# Series can have a name, to better document the purpose of the Series:\n",
        "population.name = 'G7 Population in millions'"
      ]
    },
    {
      "cell_type": "code",
      "execution_count": null,
      "id": "0440779c",
      "metadata": {
        "id": "0440779c",
        "outputId": "c7a838d1-a839-4e8c-841e-9bfb87b55007",
        "colab": {
          "base_uri": "https://localhost:8080/"
        }
      },
      "outputs": [
        {
          "output_type": "execute_result",
          "data": {
            "text/plain": [
              "0     35.467\n",
              "1     63.951\n",
              "2     80.940\n",
              "3     60.665\n",
              "4    127.061\n",
              "5     64.511\n",
              "6    318.523\n",
              "Name: G7 Population in millions, dtype: float64"
            ]
          },
          "metadata": {},
          "execution_count": 7
        }
      ],
      "source": [
        "population"
      ]
    },
    {
      "cell_type": "code",
      "execution_count": null,
      "id": "f8115430",
      "metadata": {
        "id": "f8115430",
        "outputId": "8e6f5f11-d06a-41e0-d536-e9f976669fb7",
        "colab": {
          "base_uri": "https://localhost:8080/"
        }
      },
      "outputs": [
        {
          "output_type": "execute_result",
          "data": {
            "text/plain": [
              "dtype('float64')"
            ]
          },
          "metadata": {},
          "execution_count": 8
        }
      ],
      "source": [
        "population.dtype"
      ]
    },
    {
      "cell_type": "code",
      "execution_count": null,
      "id": "4923b786",
      "metadata": {
        "id": "4923b786",
        "outputId": "866381b4-b9fa-492d-dde0-a53f04218adc",
        "colab": {
          "base_uri": "https://localhost:8080/"
        }
      },
      "outputs": [
        {
          "output_type": "execute_result",
          "data": {
            "text/plain": [
              "array([ 35.467,  63.951,  80.94 ,  60.665, 127.061,  64.511, 318.523])"
            ]
          },
          "metadata": {},
          "execution_count": 9
        }
      ],
      "source": [
        "population.values"
      ]
    },
    {
      "cell_type": "code",
      "execution_count": null,
      "id": "e5bc0af1",
      "metadata": {
        "id": "e5bc0af1",
        "outputId": "b1b0b0b6-054b-475a-cb2a-d30b6a3b80cf",
        "colab": {
          "base_uri": "https://localhost:8080/"
        }
      },
      "outputs": [
        {
          "output_type": "execute_result",
          "data": {
            "text/plain": [
              "numpy.ndarray"
            ]
          },
          "metadata": {},
          "execution_count": 10
        }
      ],
      "source": [
        "#They're actually backed by numpy arrays:\n",
        "type(population.values)"
      ]
    },
    {
      "cell_type": "markdown",
      "id": "0577c0fb",
      "metadata": {
        "id": "0577c0fb"
      },
      "source": [
        "Pandas Series look like simple Python lists or Numpy Arrays. But they're actually more similar to Python dicts.\n",
        "\n",
        "A Series has an index, that's similar to the automatic index assigned to Python's lists\n"
      ]
    },
    {
      "cell_type": "code",
      "execution_count": null,
      "id": "80859ebf",
      "metadata": {
        "id": "80859ebf",
        "outputId": "0ae2964b-5345-4964-e838-ab2bde38699e",
        "colab": {
          "base_uri": "https://localhost:8080/"
        }
      },
      "outputs": [
        {
          "output_type": "execute_result",
          "data": {
            "text/plain": [
              "0     35.467\n",
              "1     63.951\n",
              "2     80.940\n",
              "3     60.665\n",
              "4    127.061\n",
              "5     64.511\n",
              "6    318.523\n",
              "Name: G7 Population in millions, dtype: float64"
            ]
          },
          "metadata": {},
          "execution_count": 11
        }
      ],
      "source": [
        "population"
      ]
    },
    {
      "cell_type": "code",
      "execution_count": null,
      "id": "e07e9624",
      "metadata": {
        "id": "e07e9624",
        "outputId": "e56bfb70-5065-409a-a2a4-fb022945f8e4",
        "colab": {
          "base_uri": "https://localhost:8080/"
        }
      },
      "outputs": [
        {
          "output_type": "execute_result",
          "data": {
            "text/plain": [
              "35.467"
            ]
          },
          "metadata": {},
          "execution_count": 12
        }
      ],
      "source": [
        "population[0]"
      ]
    },
    {
      "cell_type": "code",
      "execution_count": null,
      "id": "74ff17b2",
      "metadata": {
        "id": "74ff17b2",
        "outputId": "0edb2fc4-2e44-4ed0-f702-010c2aec4ee6",
        "colab": {
          "base_uri": "https://localhost:8080/"
        }
      },
      "outputs": [
        {
          "output_type": "execute_result",
          "data": {
            "text/plain": [
              "63.951"
            ]
          },
          "metadata": {},
          "execution_count": 13
        }
      ],
      "source": [
        "population[1]"
      ]
    },
    {
      "cell_type": "code",
      "execution_count": null,
      "id": "cb303e6c",
      "metadata": {
        "id": "cb303e6c",
        "outputId": "53313c56-458b-498f-acd2-150cf42b2815",
        "colab": {
          "base_uri": "https://localhost:8080/"
        }
      },
      "outputs": [
        {
          "output_type": "execute_result",
          "data": {
            "text/plain": [
              "RangeIndex(start=0, stop=7, step=1)"
            ]
          },
          "metadata": {},
          "execution_count": 14
        }
      ],
      "source": [
        "population.index"
      ]
    },
    {
      "cell_type": "markdown",
      "id": "742a95de",
      "metadata": {
        "id": "742a95de"
      },
      "source": [
        "But, in contrast to lists, we can explicitly define the index:"
      ]
    },
    {
      "cell_type": "code",
      "execution_count": null,
      "id": "8b3943d3",
      "metadata": {
        "id": "8b3943d3"
      },
      "outputs": [],
      "source": [
        "population.index = [\n",
        "    'Canada',\n",
        "    'France',\n",
        "    'Germany',\n",
        "    'Italy',\n",
        "    'Japan',\n",
        "    'United Kingdom',\n",
        "    'United States',\n",
        "]"
      ]
    },
    {
      "cell_type": "code",
      "execution_count": null,
      "id": "653475c9",
      "metadata": {
        "id": "653475c9",
        "outputId": "ebcc28d3-781b-48c1-c7c4-072b98a8d270",
        "colab": {
          "base_uri": "https://localhost:8080/"
        }
      },
      "outputs": [
        {
          "output_type": "execute_result",
          "data": {
            "text/plain": [
              "Canada             35.467\n",
              "France             63.951\n",
              "Germany            80.940\n",
              "Italy              60.665\n",
              "Japan             127.061\n",
              "United Kingdom     64.511\n",
              "United States     318.523\n",
              "Name: G7 Population in millions, dtype: float64"
            ]
          },
          "metadata": {},
          "execution_count": 16
        }
      ],
      "source": [
        "population"
      ]
    },
    {
      "cell_type": "markdown",
      "id": "e759714d",
      "metadata": {
        "id": "e759714d"
      },
      "source": [
        "We can say that Series look like \"ordered dictionaries\". We can actually create Series out of dictionaries:"
      ]
    },
    {
      "cell_type": "code",
      "execution_count": null,
      "id": "0f3099e1",
      "metadata": {
        "id": "0f3099e1",
        "outputId": "0f70a5af-4f07-4ede-b9ef-f201d68a7558",
        "colab": {
          "base_uri": "https://localhost:8080/"
        }
      },
      "outputs": [
        {
          "output_type": "execute_result",
          "data": {
            "text/plain": [
              "Canada             35.467\n",
              "France             63.951\n",
              "Germany            80.940\n",
              "Italy              60.665\n",
              "Japan             127.061\n",
              "United Kingdom     64.511\n",
              "United States     318.523\n",
              "Name: G7 Population in millions, dtype: float64"
            ]
          },
          "metadata": {},
          "execution_count": 17
        }
      ],
      "source": [
        "pd.Series({\n",
        "    'Canada': 35.467,\n",
        "    'France': 63.951,\n",
        "    'Germany': 80.94,\n",
        "    'Italy': 60.665,\n",
        "    'Japan': 127.061,\n",
        "    'United Kingdom': 64.511,\n",
        "    'United States': 318.523\n",
        "}, name='G7 Population in millions')"
      ]
    },
    {
      "cell_type": "code",
      "execution_count": null,
      "id": "60f61e9a",
      "metadata": {
        "id": "60f61e9a",
        "outputId": "d64e75fc-1c6d-48a9-bc7b-3380775645ae",
        "colab": {
          "base_uri": "https://localhost:8080/"
        }
      },
      "outputs": [
        {
          "output_type": "execute_result",
          "data": {
            "text/plain": [
              "Canada             35.467\n",
              "France             63.951\n",
              "Germany            80.940\n",
              "Italy              60.665\n",
              "Japan             127.061\n",
              "United Kingdom     64.511\n",
              "United States     318.523\n",
              "Name: G7 Population in millions, dtype: float64"
            ]
          },
          "metadata": {},
          "execution_count": 18
        }
      ],
      "source": [
        "pd.Series(\n",
        "    [35.467, 63.951, 80.94, 60.665, 127.061, 64.511, 318.523],\n",
        "    index=['Canada', 'France', 'Germany', 'Italy', 'Japan', 'United Kingdom',\n",
        "       'United States'],\n",
        "    name='G7 Population in millions')"
      ]
    },
    {
      "cell_type": "code",
      "execution_count": null,
      "id": "6b76dd23",
      "metadata": {
        "colab": {
          "base_uri": "https://localhost:8080/"
        },
        "id": "6b76dd23",
        "outputId": "8e891f9b-20fd-4cc0-ef06-882cb6ae3c5f"
      },
      "outputs": [
        {
          "output_type": "execute_result",
          "data": {
            "text/plain": [
              "Canada             35.467\n",
              "France             63.951\n",
              "Germany            80.940\n",
              "Italy              60.665\n",
              "Japan             127.061\n",
              "United Kingdom     64.511\n",
              "United States     318.523\n",
              "Name: G7 Population in millions, dtype: float64"
            ]
          },
          "metadata": {},
          "execution_count": 19
        }
      ],
      "source": [
        "population"
      ]
    },
    {
      "cell_type": "code",
      "execution_count": null,
      "id": "80232e92",
      "metadata": {
        "id": "80232e92",
        "outputId": "d1c10100-067a-43f9-f590-943f4bb34274",
        "colab": {
          "base_uri": "https://localhost:8080/"
        }
      },
      "outputs": [
        {
          "output_type": "execute_result",
          "data": {
            "text/plain": [
              "Germany    80.940\n",
              "Italy      60.665\n",
              "Spain         NaN\n",
              "France     63.951\n",
              "Name: G7 Population in millions, dtype: float64"
            ]
          },
          "metadata": {},
          "execution_count": 20
        }
      ],
      "source": [
        "pd.Series(population, index=['Germany', 'Italy', 'Spain','France'])"
      ]
    },
    {
      "cell_type": "markdown",
      "id": "a1b64a62",
      "metadata": {
        "id": "a1b64a62"
      },
      "source": [
        "##### Indexing\n",
        "\n",
        "Indexing works similarly to lists and dictionaries, you use the index of the element you're looking for:"
      ]
    },
    {
      "cell_type": "code",
      "execution_count": null,
      "id": "a48ad706",
      "metadata": {
        "id": "a48ad706",
        "outputId": "3bea2162-664c-45e5-ba17-2f49cbb33b63",
        "colab": {
          "base_uri": "https://localhost:8080/"
        }
      },
      "outputs": [
        {
          "output_type": "execute_result",
          "data": {
            "text/plain": [
              "Canada             35.467\n",
              "France             63.951\n",
              "Germany            80.940\n",
              "Italy              60.665\n",
              "Japan             127.061\n",
              "United Kingdom     64.511\n",
              "United States     318.523\n",
              "Name: G7 Population in millions, dtype: float64"
            ]
          },
          "metadata": {},
          "execution_count": 21
        }
      ],
      "source": [
        "population"
      ]
    },
    {
      "cell_type": "code",
      "execution_count": null,
      "id": "059b67d1",
      "metadata": {
        "colab": {
          "base_uri": "https://localhost:8080/"
        },
        "id": "059b67d1",
        "outputId": "ffda3bfb-2ec9-41de-d82f-70c4d1d0e6a5"
      },
      "outputs": [
        {
          "output_type": "execute_result",
          "data": {
            "text/plain": [
              "Canada    35.467\n",
              "Name: G7 Population in millions, dtype: float64"
            ]
          },
          "metadata": {},
          "execution_count": 22
        }
      ],
      "source": [
        "pd.Series(population, index=['Canada'])"
      ]
    },
    {
      "cell_type": "code",
      "execution_count": null,
      "id": "108968bb",
      "metadata": {
        "id": "108968bb",
        "outputId": "3baaa303-d482-4138-d943-6e9190483a3d",
        "colab": {
          "base_uri": "https://localhost:8080/"
        }
      },
      "outputs": [
        {
          "output_type": "execute_result",
          "data": {
            "text/plain": [
              "35.467"
            ]
          },
          "metadata": {},
          "execution_count": 23
        }
      ],
      "source": [
        "population['Canada']"
      ]
    },
    {
      "cell_type": "code",
      "execution_count": null,
      "id": "a3d792d6",
      "metadata": {
        "id": "a3d792d6",
        "outputId": "90d4df12-f6b9-4a35-9260-9890b9ecc4ec",
        "colab": {
          "base_uri": "https://localhost:8080/"
        }
      },
      "outputs": [
        {
          "output_type": "execute_result",
          "data": {
            "text/plain": [
              "127.061"
            ]
          },
          "metadata": {},
          "execution_count": 24
        }
      ],
      "source": [
        "population['Japan']"
      ]
    },
    {
      "cell_type": "markdown",
      "id": "b36b4ed3",
      "metadata": {
        "id": "b36b4ed3"
      },
      "source": [
        "Numeric positions can also be used, with the iloc attribute:"
      ]
    },
    {
      "cell_type": "code",
      "execution_count": null,
      "id": "8654162b",
      "metadata": {
        "id": "8654162b",
        "outputId": "d5165487-51fc-42b8-d34d-78197adf7d14",
        "colab": {
          "base_uri": "https://localhost:8080/"
        }
      },
      "outputs": [
        {
          "output_type": "execute_result",
          "data": {
            "text/plain": [
              "Canada     35.467\n",
              "France     63.951\n",
              "Germany    80.940\n",
              "Italy      60.665\n",
              "Name: G7 Population in millions, dtype: float64"
            ]
          },
          "metadata": {},
          "execution_count": 25
        }
      ],
      "source": [
        "population.iloc[0:4]"
      ]
    },
    {
      "cell_type": "code",
      "execution_count": null,
      "id": "7964ff2a",
      "metadata": {
        "id": "7964ff2a",
        "outputId": "fa21c199-f707-465c-edba-0316269ef3da",
        "colab": {
          "base_uri": "https://localhost:8080/"
        }
      },
      "outputs": [
        {
          "output_type": "execute_result",
          "data": {
            "text/plain": [
              "318.523"
            ]
          },
          "metadata": {},
          "execution_count": 26
        }
      ],
      "source": [
        "population.iloc[-1]"
      ]
    },
    {
      "cell_type": "markdown",
      "id": "e2093fa9",
      "metadata": {
        "id": "e2093fa9"
      },
      "source": [
        "Selecting multiple elements at once:"
      ]
    },
    {
      "cell_type": "code",
      "execution_count": null,
      "id": "ea0d8b16",
      "metadata": {
        "id": "ea0d8b16",
        "outputId": "b54b6b6c-d7b3-4156-a3be-34f623ab6d5b",
        "colab": {
          "base_uri": "https://localhost:8080/"
        }
      },
      "outputs": [
        {
          "output_type": "execute_result",
          "data": {
            "text/plain": [
              "Italy     60.665\n",
              "France    63.951\n",
              "Name: G7 Population in millions, dtype: float64"
            ]
          },
          "metadata": {},
          "execution_count": 27
        }
      ],
      "source": [
        "population[['Italy', 'France']]"
      ]
    },
    {
      "cell_type": "markdown",
      "id": "8ddb536c",
      "metadata": {
        "id": "8ddb536c"
      },
      "source": [
        "Slicing also works, but important, in Pandas, the upper limit is also included:"
      ]
    },
    {
      "cell_type": "code",
      "execution_count": null,
      "id": "c88e4d74",
      "metadata": {
        "id": "c88e4d74",
        "outputId": "11e5dc86-18c2-4c71-9b59-f2e69c5341f1",
        "colab": {
          "base_uri": "https://localhost:8080/"
        }
      },
      "outputs": [
        {
          "output_type": "execute_result",
          "data": {
            "text/plain": [
              "Canada     35.467\n",
              "France     63.951\n",
              "Germany    80.940\n",
              "Italy      60.665\n",
              "Name: G7 Population in millions, dtype: float64"
            ]
          },
          "metadata": {},
          "execution_count": 28
        }
      ],
      "source": [
        "population['Canada': 'Italy']"
      ]
    },
    {
      "cell_type": "markdown",
      "id": "ca8115a5",
      "metadata": {
        "id": "ca8115a5"
      },
      "source": [
        "##### Conditional selection (boolean arrays)"
      ]
    },
    {
      "cell_type": "code",
      "execution_count": null,
      "id": "b64605b7",
      "metadata": {
        "id": "b64605b7",
        "outputId": "e1575857-6a05-4d11-a1a0-ce3f296d7e21",
        "colab": {
          "base_uri": "https://localhost:8080/"
        }
      },
      "outputs": [
        {
          "output_type": "execute_result",
          "data": {
            "text/plain": [
              "Canada             35.467\n",
              "France             63.951\n",
              "Germany            80.940\n",
              "Italy              60.665\n",
              "Japan             127.061\n",
              "United Kingdom     64.511\n",
              "United States     318.523\n",
              "Name: G7 Population in millions, dtype: float64"
            ]
          },
          "metadata": {},
          "execution_count": 29
        }
      ],
      "source": [
        "population"
      ]
    },
    {
      "cell_type": "code",
      "execution_count": null,
      "id": "67513d49",
      "metadata": {
        "id": "67513d49",
        "outputId": "3fce5bf0-ece5-4e2a-a6c7-f9124caebe38",
        "colab": {
          "base_uri": "https://localhost:8080/"
        }
      },
      "outputs": [
        {
          "output_type": "execute_result",
          "data": {
            "text/plain": [
              "Canada            False\n",
              "France            False\n",
              "Germany            True\n",
              "Italy             False\n",
              "Japan              True\n",
              "United Kingdom    False\n",
              "United States      True\n",
              "Name: G7 Population in millions, dtype: bool"
            ]
          },
          "metadata": {},
          "execution_count": 30
        }
      ],
      "source": [
        "population > 70"
      ]
    },
    {
      "cell_type": "code",
      "execution_count": null,
      "id": "a0d79343",
      "metadata": {
        "id": "a0d79343",
        "outputId": "a2d7fce9-c74a-418b-d4cb-5e8ad9b0bbb4",
        "colab": {
          "base_uri": "https://localhost:8080/"
        }
      },
      "outputs": [
        {
          "output_type": "execute_result",
          "data": {
            "text/plain": [
              "107.30257142857144"
            ]
          },
          "metadata": {},
          "execution_count": 31
        }
      ],
      "source": [
        "population.mean()"
      ]
    },
    {
      "cell_type": "code",
      "execution_count": null,
      "id": "d6d557c1",
      "metadata": {
        "id": "d6d557c1",
        "outputId": "335b20e6-d213-4936-e8d0-0c8d7643246b",
        "colab": {
          "base_uri": "https://localhost:8080/"
        }
      },
      "outputs": [
        {
          "output_type": "execute_result",
          "data": {
            "text/plain": [
              "97.24996987121581"
            ]
          },
          "metadata": {},
          "execution_count": 32
        }
      ],
      "source": [
        "population.std()"
      ]
    },
    {
      "cell_type": "markdown",
      "id": "41aca792",
      "metadata": {
        "id": "41aca792"
      },
      "source": [
        "##### Operations and methods\n",
        "\n",
        "Series also support vectorized operations and aggregation functions as Numpy:"
      ]
    },
    {
      "cell_type": "code",
      "source": [
        "population * 1000000"
      ],
      "metadata": {
        "colab": {
          "base_uri": "https://localhost:8080/"
        },
        "id": "2L_ICXybA_U-",
        "outputId": "a0e2c229-0648-448f-f017-db38ab5cd084"
      },
      "id": "2L_ICXybA_U-",
      "execution_count": null,
      "outputs": [
        {
          "output_type": "execute_result",
          "data": {
            "text/plain": [
              "Canada             35467000.0\n",
              "France             63951000.0\n",
              "Germany            80940000.0\n",
              "Italy              60665000.0\n",
              "Japan             127061000.0\n",
              "United Kingdom     64511000.0\n",
              "United States     318523000.0\n",
              "Name: G7 Population in millions, dtype: float64"
            ]
          },
          "metadata": {},
          "execution_count": 34
        }
      ]
    },
    {
      "cell_type": "code",
      "execution_count": null,
      "id": "31289694",
      "metadata": {
        "id": "31289694",
        "outputId": "4f07d0aa-0a64-49fe-a839-72952ab38124",
        "colab": {
          "base_uri": "https://localhost:8080/"
        }
      },
      "outputs": [
        {
          "output_type": "execute_result",
          "data": {
            "text/plain": [
              "Canada            3.568603\n",
              "France            4.158117\n",
              "Germany           4.393708\n",
              "Italy             4.105367\n",
              "Japan             4.844667\n",
              "United Kingdom    4.166836\n",
              "United States     5.763695\n",
              "Name: G7 Population in millions, dtype: float64"
            ]
          },
          "metadata": {},
          "execution_count": 35
        }
      ],
      "source": [
        "np.log(population)"
      ]
    },
    {
      "cell_type": "code",
      "execution_count": null,
      "id": "00b87f4b",
      "metadata": {
        "colab": {
          "base_uri": "https://localhost:8080/"
        },
        "id": "00b87f4b",
        "outputId": "2478bc71-41a3-4ef9-f9ef-c53ae80d8a56"
      },
      "outputs": [
        {
          "output_type": "execute_result",
          "data": {
            "text/plain": [
              "Canada             35.467\n",
              "France             63.951\n",
              "Germany            80.940\n",
              "Italy              60.665\n",
              "Japan             127.061\n",
              "United Kingdom     64.511\n",
              "United States     318.523\n",
              "Name: G7 Population in millions, dtype: float64"
            ]
          },
          "metadata": {},
          "execution_count": 36
        }
      ],
      "source": [
        "population"
      ]
    },
    {
      "cell_type": "code",
      "execution_count": null,
      "id": "4d5a8cf9",
      "metadata": {
        "id": "4d5a8cf9",
        "outputId": "7025a446-12c1-4bdb-b374-3655a86ca49d",
        "colab": {
          "base_uri": "https://localhost:8080/"
        }
      },
      "outputs": [
        {
          "output_type": "execute_result",
          "data": {
            "text/plain": [
              "68.51866666666666"
            ]
          },
          "metadata": {},
          "execution_count": 37
        }
      ],
      "source": [
        "population['France': 'Italy'].mean()"
      ]
    },
    {
      "cell_type": "code",
      "execution_count": null,
      "id": "333785f1",
      "metadata": {
        "colab": {
          "base_uri": "https://localhost:8080/"
        },
        "id": "333785f1",
        "outputId": "2ae2bfbe-c4c7-4b4b-f69b-433eafa99ffc"
      },
      "outputs": [
        {
          "output_type": "execute_result",
          "data": {
            "text/plain": [
              "180.358"
            ]
          },
          "metadata": {},
          "execution_count": 38
        }
      ],
      "source": [
        "population['Canada': 'Germany'].sum()"
      ]
    },
    {
      "cell_type": "markdown",
      "id": "cca586f0",
      "metadata": {
        "id": "cca586f0"
      },
      "source": [
        "##### Modifying series"
      ]
    },
    {
      "cell_type": "code",
      "execution_count": null,
      "id": "20d297e1",
      "metadata": {
        "id": "20d297e1",
        "colab": {
          "base_uri": "https://localhost:8080/"
        },
        "outputId": "e5ff26ab-4740-4591-ca7d-f968024c7f95"
      },
      "outputs": [
        {
          "output_type": "execute_result",
          "data": {
            "text/plain": [
              "Canada             40.500\n",
              "France             63.951\n",
              "Germany            80.940\n",
              "Italy              60.665\n",
              "Japan             127.061\n",
              "United Kingdom     64.511\n",
              "United States     318.523\n",
              "Name: G7 Population in millions, dtype: float64"
            ]
          },
          "metadata": {},
          "execution_count": 39
        }
      ],
      "source": [
        "population['Canada'] = 40.5\n",
        "population"
      ]
    },
    {
      "cell_type": "code",
      "execution_count": null,
      "id": "5a7f6f18",
      "metadata": {
        "id": "5a7f6f18"
      },
      "outputs": [],
      "source": [
        "population.iloc[-1] = 500"
      ]
    },
    {
      "cell_type": "code",
      "execution_count": null,
      "id": "dff1d23b",
      "metadata": {
        "id": "dff1d23b",
        "outputId": "e265c09f-5109-4a01-983c-3480b8adbf14",
        "colab": {
          "base_uri": "https://localhost:8080/"
        }
      },
      "outputs": [
        {
          "output_type": "execute_result",
          "data": {
            "text/plain": [
              "Canada             40.500\n",
              "France             63.951\n",
              "Germany            80.940\n",
              "Italy              60.665\n",
              "Japan             127.061\n",
              "United Kingdom     64.511\n",
              "United States     500.000\n",
              "Name: G7 Population in millions, dtype: float64"
            ]
          },
          "metadata": {},
          "execution_count": 41
        }
      ],
      "source": [
        "population"
      ]
    },
    {
      "cell_type": "code",
      "execution_count": null,
      "id": "e6ee8071",
      "metadata": {
        "id": "e6ee8071"
      },
      "outputs": [],
      "source": []
    }
  ],
  "metadata": {
    "colab": {
      "provenance": []
    },
    "kernelspec": {
      "display_name": "Python 3 (ipykernel)",
      "language": "python",
      "name": "python3"
    },
    "language_info": {
      "codemirror_mode": {
        "name": "ipython",
        "version": 3
      },
      "file_extension": ".py",
      "mimetype": "text/x-python",
      "name": "python",
      "nbconvert_exporter": "python",
      "pygments_lexer": "ipython3",
      "version": "3.10.9"
    }
  },
  "nbformat": 4,
  "nbformat_minor": 5
}